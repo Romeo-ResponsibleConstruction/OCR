{
 "cells": [
  {
   "cell_type": "code",
   "execution_count": 1,
   "id": "fd73eecc",
   "metadata": {},
   "outputs": [],
   "source": [
    "import numpy as np\n",
    "from weighted_levenshtein import lev, osa, dam_lev\n",
    "import pandas as pd\n",
    "import matplotlib.pyplot as plt\n",
    "import sklearn.linear_model\n",
    "import scipy\n",
    "from prettytable import PrettyTable"
   ]
  },
  {
   "cell_type": "code",
   "execution_count": 2,
   "id": "9c11fd14",
   "metadata": {},
   "outputs": [],
   "source": [
    "import nltk"
   ]
  },
  {
   "cell_type": "code",
   "execution_count": 3,
   "id": "86857608",
   "metadata": {},
   "outputs": [],
   "source": [
    "url = './OCR MLE Document.csv'\n",
    "df = pd.read_csv(url)\n",
    "df = df.dropna(subset=[\"Actual Field Name\"])\n",
    "df = df.reset_index()"
   ]
  },
  {
   "cell_type": "code",
   "execution_count": 28,
   "id": "494b034f",
   "metadata": {},
   "outputs": [],
   "source": [
    "field_name = df[\"Field Name\"]\n",
    "actual_field_name = df[\"Actual Field Name\"]\n",
    "lengths = field_name.apply(lambda x: len(x))\n",
    "\n",
    "ones = np.ones(128, dtype=np.float64)\n",
    "ones2 = np.ones((128, 128), dtype=np.float64)\n",
    "zeros = np.zeros(128, dtype=np.float64)\n",
    "zeros2 = np.zeros((128, 128), dtype=np.float64)\n",
    "\n",
    "def levenshteinDistance(A, B):\n",
    "    N, M = len(A), len(B)\n",
    "    dp = [[tuple((0, [0, 0, 0])) for i in range(M + 1)] for j in range(N + 1)]\n",
    "    insertion = 0\n",
    "    deletion = 0 \n",
    "    replacement = 0\n",
    "    for j in range(M + 1):\n",
    "        dp[0][j] = tuple((j, [j, 0, 0]))\n",
    "    for i in range(N + 1):\n",
    "        dp[i][0] = tuple((i, [0, i, 0]))\n",
    "    for i in range(1, N + 1):\n",
    "        for j in range(1, M + 1):\n",
    "            if A[i - 1] == B[j - 1]:\n",
    "                dp[i][j] = dp[i-1][j-1]\n",
    "            else:\n",
    "                inse, icounts = dp[i-1][j]\n",
    "                dele, dcounts = dp[i][j-1]\n",
    "                repl, rcounts = dp[i-1][j-1]\n",
    "                counts = [0, 0, 0]\n",
    "                if inse == min(inse, dele, repl):\n",
    "                    counts = icounts.copy()\n",
    "                    counts[0] += 1\n",
    "                elif dele == min(inse, dele, repl):\n",
    "                    counts = dcounts.copy()\n",
    "                    counts[1] += 1\n",
    "                else:\n",
    "                    counts = rcounts.copy()\n",
    "                    counts[2] += 1\n",
    "                dp[i][j] = tuple((1 + min(inse, dele, repl), counts))\n",
    "                \n",
    "    return dp[N][M]\n",
    "\n",
    "def edit_distance(s1, s2):\n",
    "    l0, l1 = levenshteinDistance(s1, s2)\n",
    "    return np.array(l1)"
   ]
  },
  {
   "cell_type": "code",
   "execution_count": 29,
   "id": "39428b0b",
   "metadata": {},
   "outputs": [
    {
     "name": "stdout",
     "output_type": "stream",
     "text": [
      "Optimization terminated successfully.\n",
      "         Current function value: 390.830303\n",
      "         Iterations: 176\n",
      "         Function evaluations: 312\n",
      "[0.81489784 0.63088535 0.60458837]\n"
     ]
    }
   ],
   "source": [
    "distances = np.array([(edit_distance(fn, afn)) for (fn, afn) in zip(field_name, actual_field_name)])\n",
    "def loglikelihood(x, theta):\n",
    "    theta1, theta2, theta3 = theta\n",
    "    return np.sum(scipy.stats.poisson.logpmf(x[:, 0], theta1*lengths)\n",
    "                 +scipy.stats.poisson.logpmf(x[:, 1], theta2*lengths)\n",
    "                 +scipy.stats.poisson.logpmf(x[:, 2], theta3*lengths))\n",
    "\n",
    "mles = np.exp(scipy.optimize.fmin(lambda theta: -loglikelihood(distances, np.exp(theta)), [0, 0, 0]))\n",
    "print(mles*len(\"Total Weight\"))"
   ]
  },
  {
   "cell_type": "code",
   "execution_count": 30,
   "id": "e61b84a2",
   "metadata": {},
   "outputs": [],
   "source": [
    "url2 = \"./1b8f1057-df25-41ac-81ac-8c0b70966f80.csv\"\n",
    "df2 = pd.read_csv(url2)"
   ]
  },
  {
   "cell_type": "code",
   "execution_count": 31,
   "id": "87743efa",
   "metadata": {},
   "outputs": [
    {
     "name": "stdout",
     "output_type": "stream",
     "text": [
      "1964.688Kgs 0.9999826260977809\n"
     ]
    }
   ],
   "source": [
    "field_names = df2[\"Field Name\"]\n",
    "field_names = field_names.apply(lambda x: x.lower())\n",
    "distances = np.array([(edit_distance(fn, \"Total Weight\".lower())) for fn in field_names])\n",
    "\n",
    "likelihoods_ins = scipy.stats.poisson.pmf(distances[:, 0], 0.81489784)\n",
    "likelihoods_del = scipy.stats.poisson.pmf(distances[:, 1], 0.63088535)\n",
    "likelihoods_rep = scipy.stats.poisson.pmf(distances[:, 2], 0.60458837)\n",
    "    \n",
    "likelihoods = likelihoods_ins * likelihoods_del * likelihoods_rep\n",
    "likelihoods /= np.sum(likelihoods)\n",
    "df2[\"fieldLikelihood\"] = likelihoods\n",
    "\n",
    "value = df2.loc[df2[\"fieldLikelihood\"].idxmax()][\"Field Value\"]\n",
    "likelihood = df2.loc[df2[\"fieldLikelihood\"].idxmax()][\"fieldLikelihood\"]\n",
    "print(value, likelihood)"
   ]
  },
  {
   "cell_type": "code",
   "execution_count": 32,
   "id": "a9463177",
   "metadata": {},
   "outputs": [
    {
     "name": "stdout",
     "output_type": "stream",
     "text": [
      "1964.688\n"
     ]
    }
   ],
   "source": [
    "value = value.replace(',', '')\n",
    "value = value.replace(' ', '')\n",
    "import re\n",
    "z = re.search(r\"\\d+\\.?\\d*\", value)\n",
    "print(z.group())"
   ]
  },
  {
   "cell_type": "code",
   "execution_count": 33,
   "id": "5fba12b8",
   "metadata": {},
   "outputs": [
    {
     "name": "stdout",
     "output_type": "stream",
     "text": [
      "Optimization terminated successfully.\n",
      "         Current function value: 388.921206\n",
      "         Iterations: 434\n",
      "         Function evaluations: 702\n"
     ]
    },
    {
     "data": {
      "text/plain": [
       "[<matplotlib.lines.Line2D at 0x7fe9c8044c40>]"
      ]
     },
     "execution_count": 33,
     "metadata": {},
     "output_type": "execute_result"
    },
    {
     "data": {
      "image/png": "[encoded data removed]",
      "text/plain": [
       "<Figure size 432x288 with 1 Axes>"
      ]
     },
     "metadata": {
      "needs_background": "light"
     },
     "output_type": "display_data"
    }
   ],
   "source": [
    "weights_url = \"./truckWeights.csv\"\n",
    "df3 = pd.read_csv(weights_url)\n",
    "weights = df3[\"Weight\"]\n",
    "plt.hist(df3, bins=100, density=True)\n",
    "\n",
    "def transform(params):\n",
    "    m0, m1, m2, t0, t1, t2, s0, s1 = params\n",
    "    d = np.exp(s0) + np.exp(s1) + 1\n",
    "    p0 = np.exp(s0) / d\n",
    "    p1 = np.exp(s1) / d\n",
    "    p2 = 1 / d\n",
    "    return (np.exp(m0), np.exp(m1), np.exp(m2), np.exp(t0), np.exp(t1), np.exp(t2), p0, p1, p2)\n",
    "\n",
    "def loglik(params):\n",
    "    m0, m1, m2, t0, t1, t2, p0, p1, p2 = params\n",
    "    a = p0*scipy.stats.norm.logpdf(weights, m0, t0)\n",
    "    b = p1*scipy.stats.norm.logpdf(weights, m1, t1)\n",
    "    c = p2*scipy.stats.norm.logpdf(weights, m2, t2)\n",
    "    return np.sum(a+b+c)\n",
    "\n",
    "n0, n1, n2, t0, t1, t2, s0, s1 = scipy.optimize.fmin(lambda x: -loglik(transform(x)), \n",
    "                                                                [np.log(5), np.log(10), np.log(100), np.log(100), np.log(100), np.log(100), 5, 2])\n",
    "\n",
    "params = (transform([n0, n1, n2, t0, t1, t2, s0, s1]))\n",
    "\n",
    "def lik(x):\n",
    "    m0, m1, m2, t0, t1, t2, p0, p1, p2 = params\n",
    "    a = p0*scipy.stats.norm.pdf(x, m0, t0)\n",
    "    b = p1*scipy.stats.norm.pdf(x, m1, t1)\n",
    "    c = p2*scipy.stats.norm.pdf(x, m2, t2)\n",
    "    return (a+b+c)\n",
    "\n",
    "x = np.linspace(0, 10000, 10000)\n",
    "plt.plot(x, lik(x))"
   ]
  },
  {
   "cell_type": "code",
   "execution_count": null,
   "id": "c4f48cf4",
   "metadata": {},
   "outputs": [],
   "source": []
  }
 ],
 "metadata": {
  "kernelspec": {
   "display_name": "Python 3 (ipykernel)",
   "language": "python",
   "name": "python3"
  },
  "language_info": {
   "codemirror_mode": {
    "name": "ipython",
    "version": 3
   },
   "file_extension": ".py",
   "mimetype": "text/x-python",
   "name": "python",
   "nbconvert_exporter": "python",
   "pygments_lexer": "ipython3",
   "version": "3.9.12"
  }
 },
 "nbformat": 4,
 "nbformat_minor": 5
}
